{
 "cells": [
  {
   "cell_type": "markdown",
   "metadata": {},
   "source": [
    "# What to do?\n",
    "Use machine learning to create a model that predicts which passengers survived the Titanic shipwreck.\n",
    "\n",
    "* Link dataset: https://www.kaggle.com/competitions/titanic\n",
    "* Usar one-hot-encoding para codificar features categóricas\n",
    "* Usar normalização/padronização nas features numericas Modeling: (verificar por coluna)\n",
    "* Usar uma árvore de decisão\n",
    "* Usar um método de bagging de árvore (ex: Random Forest)\n",
    "* Usar modelos para prever a sobrevivência dos passageiros (probabilidade e classe) \n",
    "* Evaluation: K-Fold Cross-Validation\n",
    "* Usar métricas Precision, Recall, e F1-Score\n",
    "* (Opcional) Verificar calibração do modelos (usando reliability diagrams » https://towardsdatascience.com/introduction-to-reliability-diagrams-for-probability-calibration-ed785b3f5d44 , https://machinelearningmastery.com/calibrated-classification-model-in-scikit-learn/ )"
   ]
  },
  {
   "cell_type": "code",
   "execution_count": null,
   "metadata": {},
   "outputs": [],
   "source": []
  }
 ],
 "metadata": {
  "kernelspec": {
   "display_name": "Python 3",
   "language": "python",
   "name": "python3"
  },
  "language_info": {
   "name": "python",
   "version": "3.12.3"
  }
 },
 "nbformat": 4,
 "nbformat_minor": 2
}
